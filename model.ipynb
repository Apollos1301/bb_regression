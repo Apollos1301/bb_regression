{
 "cells": [
  {
   "cell_type": "markdown",
   "metadata": {},
   "source": [
    "# Imports"
   ]
  },
  {
   "cell_type": "code",
   "execution_count": 1,
   "metadata": {},
   "outputs": [],
   "source": [
    "import os\n",
    "import copy\n",
    "import numpy as np\n",
    "import pandas as pd\n",
    "import matplotlib.pyplot as plt\n",
    "\n",
    "from PIL import Image, ImageDraw"
   ]
  },
  {
   "cell_type": "code",
   "execution_count": 2,
   "metadata": {},
   "outputs": [
    {
     "name": "stdout",
     "output_type": "stream",
     "text": [
      "cuda\n"
     ]
    },
    {
     "data": {
      "text/plain": [
       "True"
      ]
     },
     "execution_count": 2,
     "metadata": {},
     "output_type": "execute_result"
    }
   ],
   "source": [
    "import torch\n",
    "import torch.nn as nn\n",
    "import torch.optim as optim\n",
    "import torch.optim.lr_scheduler as lr_scheduler\n",
    "\n",
    "from torchvision import transforms\n",
    "from torch.utils.data import DataLoader, Dataset\n",
    "from torchvision.datasets import ImageFolder\n",
    "\n",
    "from torchvision.models import googlenet, GoogLeNet_Weights, mobilenet_v3_small, MobileNet_V3_Small_Weights, vgg16, VGG16_Weights\n",
    "\n",
    "device = torch.device('cuda' if torch.cuda.is_available() else 'cpu')\n",
    "print(device) \n",
    "torch.cuda.is_available()"
   ]
  },
  {
   "cell_type": "markdown",
   "metadata": {},
   "source": [
    "# Import data"
   ]
  },
  {
   "cell_type": "code",
   "execution_count": 3,
   "metadata": {},
   "outputs": [],
   "source": [
    "raw_imgs = []\n",
    "\n",
    "data_train_c = []\n",
    "classes_train_c = []\n",
    "data_train_r = []\n",
    "classes_train_r = []\n",
    "bounds_train = []\n",
    "\n",
    "data_test = []\n",
    "classes_test = []\n",
    "\n",
    "img_directories = [\"./data/images/butterfly\",\"./data/images/dalmatian\", \"./data/images/dolphin\"]\n",
    "anno_directories = [\"./data/annotations/res_butterfly.txt\",\"./data/annotations/res_dalmatian.txt\", \"./data/annotations/res_dolphin.txt\"]"
   ]
  },
  {
   "cell_type": "code",
   "execution_count": 4,
   "metadata": {},
   "outputs": [],
   "source": [
    "RESIZE = 350"
   ]
  },
  {
   "cell_type": "code",
   "execution_count": 5,
   "metadata": {},
   "outputs": [],
   "source": [
    "class_transformer_1 = transforms.Compose([\n",
    "                           transforms.Resize((RESIZE, RESIZE)),\n",
    "                           transforms.ColorJitter(brightness=0.2, contrast=0.2, saturation=0.2),\n",
    "                           transforms.RandomRotation(5),\n",
    "                           transforms.RandomAffine(degrees=11, translate=(0.1,0.1), scale=(0.8,0.8)),\n",
    "                           transforms.ToTensor(),\n",
    "]),\n",
    "\n",
    "class_transformer_2 = transforms.Compose([\n",
    "                                 transforms.Resize((RESIZE, RESIZE)),\n",
    "                                 transforms.RandomHorizontalFlip(),\n",
    "                                 transforms.RandomRotation(10),\n",
    "                                 transforms.RandomAffine(translate=(0.05,0.05), degrees=0),\n",
    "                                 transforms.ToTensor(),\n",
    "                                 transforms.RandomErasing(inplace=True, scale=(0.01, 0.23))]),\n",
    "\n",
    "transformers = [class_transformer_1, class_transformer_2]"
   ]
  },
  {
   "cell_type": "code",
   "execution_count": 6,
   "metadata": {},
   "outputs": [
    {
     "name": "stderr",
     "output_type": "stream",
     "text": [
      "d:\\anaconda3\\envs\\DeepL\\Lib\\site-packages\\torchvision\\transforms\\functional.py:1603: UserWarning: The default value of the antialias parameter of all the resizing transforms (Resize(), RandomResizedCrop(), etc.) will change from None to True in v0.17, in order to be consistent across the PIL and Tensor backends. To suppress this warning, directly pass antialias=True (recommended, future default), antialias=None (current default, which means False for Tensors and True for PIL), or antialias=False (only works on Tensors - PIL will still use antialiasing). This also applies if you are using the inference transforms from the models weights: update the call to weights.transforms(antialias=True).\n",
      "  warnings.warn(\n",
      "d:\\anaconda3\\envs\\DeepL\\Lib\\site-packages\\torchvision\\transforms\\functional.py:1603: UserWarning: The default value of the antialias parameter of all the resizing transforms (Resize(), RandomResizedCrop(), etc.) will change from None to True in v0.17, in order to be consistent across the PIL and Tensor backends. To suppress this warning, directly pass antialias=True (recommended, future default), antialias=None (current default, which means False for Tensors and True for PIL), or antialias=False (only works on Tensors - PIL will still use antialiasing). This also applies if you are using the inference transforms from the models weights: update the call to weights.transforms(antialias=True).\n",
      "  warnings.warn(\n",
      "d:\\anaconda3\\envs\\DeepL\\Lib\\site-packages\\torchvision\\transforms\\functional.py:1603: UserWarning: The default value of the antialias parameter of all the resizing transforms (Resize(), RandomResizedCrop(), etc.) will change from None to True in v0.17, in order to be consistent across the PIL and Tensor backends. To suppress this warning, directly pass antialias=True (recommended, future default), antialias=None (current default, which means False for Tensors and True for PIL), or antialias=False (only works on Tensors - PIL will still use antialiasing). This also applies if you are using the inference transforms from the models weights: update the call to weights.transforms(antialias=True).\n",
      "  warnings.warn(\n"
     ]
    }
   ],
   "source": [
    "for idx, dirr in enumerate(img_directories):\n",
    "    data = pd.read_csv(anno_directories[idx], delimiter=',', header=None)\n",
    "    for idx_2, filename in enumerate(os.listdir(dirr)):\n",
    "        if(idx_2 < 65):\n",
    "            classes_train_c.append(idx)\n",
    "            classes_train_r.append(idx)\n",
    "\n",
    "            full_path = os.path.join(dirr, filename)\n",
    "            img = Image.open(full_path)\n",
    "            \n",
    "            if img.mode != 'RGB':\n",
    "                img = img.convert('RGB')\n",
    "            \n",
    "            img_ = transforms.ToTensor()(img)\n",
    "\n",
    "            h, w = img_.shape[1:]\n",
    "            img_ = transforms.Resize(size=(RESIZE,RESIZE))(img_)\n",
    "            \n",
    "            x1,y1,x2,y2 = data.iloc[idx_2,1:].values\n",
    "            x1 = (x1 * RESIZE) / w\n",
    "            y1 = (y1 * RESIZE) / h\n",
    "            x2 = (x2 * RESIZE) / w\n",
    "            y2 = (y2 * RESIZE) / h\n",
    "            \n",
    "            bounds_train.append((x1,y1,x2,y2))\n",
    "            data_train_c.append(img_)\n",
    "            data_train_r.append(img_)\n",
    "            \n",
    "            img_1_c = transformers[0][0](img)\n",
    "            img_2_c = transformers[1][0](img)\n",
    "            \n",
    "            data_train_c.append(img_1_c)\n",
    "            data_train_c.append(img_2_c)\n",
    "            classes_train_c.append(idx)\n",
    "            classes_train_c.append(idx)\n",
    "        else:\n",
    "            \n",
    "            classes_test.append(idx)\n",
    "            \n",
    "            full_path = os.path.join(dirr, filename)\n",
    "            img = Image.open(full_path)\n",
    "            raw_imgs.append(img)\n",
    "            img = transforms.ToTensor()(img)\n",
    "            img = transforms.Resize(size=(RESIZE,RESIZE))(img)\n",
    "            data_test.append(img)\n",
    "        \n",
    "        "
   ]
  },
  {
   "cell_type": "markdown",
   "metadata": {},
   "source": [
    "# Custom Dataset"
   ]
  },
  {
   "cell_type": "code",
   "execution_count": 7,
   "metadata": {},
   "outputs": [],
   "source": [
    "class ImageData(Dataset):\n",
    "    def __init__(self, X, labels, b_enabled , width, bounds = []):\n",
    "        super(ImageData, self).__init__()\n",
    "        self.X = X\n",
    "        self.labels = labels\n",
    "        self.b_enabled = b_enabled\n",
    "        if(self.b_enabled):\n",
    "            self.bounds = bounds\n",
    "        \n",
    "        self.width = width\n",
    "    \n",
    "    def __len__(self):\n",
    "        return len(self.X)\n",
    "    \n",
    "    def __getitem__(self, idx):\n",
    "        X = self.X[idx].float()\n",
    "        label = self.labels[idx]\n",
    "        label = torch.tensor(label).float()\n",
    "        if(self.b_enabled):\n",
    "            x1,y1,x2,y2 = self.bounds[idx]\n",
    "            x1 = x1 / self.width\n",
    "            x2 = x2 / self.width\n",
    "            y1 = y1 / self.width\n",
    "            y2 = y2 / self.width\n",
    "\n",
    "            bounds = torch.tensor([x1,y1,x2,y2]).float()\n",
    "            return X, label, bounds\n",
    "        return X, label\n",
    "        \n",
    "        "
   ]
  },
  {
   "cell_type": "code",
   "execution_count": 8,
   "metadata": {},
   "outputs": [],
   "source": [
    "train_Dataset_r = ImageData(data_train_r, classes_train_r, True, RESIZE, bounds_train)\n",
    "train_Dataset_c = ImageData(data_train_c, classes_train_c, False, RESIZE)"
   ]
  },
  {
   "cell_type": "code",
   "execution_count": 9,
   "metadata": {},
   "outputs": [],
   "source": [
    "BATCH_SIZE = 15"
   ]
  },
  {
   "cell_type": "code",
   "execution_count": 10,
   "metadata": {},
   "outputs": [
    {
     "name": "stdout",
     "output_type": "stream",
     "text": [
      "39\n",
      "13\n"
     ]
    }
   ],
   "source": [
    "train_loader_r = DataLoader(train_Dataset_r, batch_size=BATCH_SIZE, shuffle=True)\n",
    "train_loader_c = DataLoader(train_Dataset_c, batch_size=BATCH_SIZE, shuffle=True)\n",
    "print(len(train_loader_c))\n",
    "print(len(train_loader_r))"
   ]
  },
  {
   "cell_type": "markdown",
   "metadata": {},
   "source": [
    "# Custom model setup"
   ]
  },
  {
   "cell_type": "code",
   "execution_count": null,
   "metadata": {},
   "outputs": [],
   "source": [
    "class MyModel(nn.Module):\n",
    "    def __init__(self, num_classes = 3, num_bounds = 4):\n",
    "        super(MyModel, self).__init__()\n",
    "        self.features = nn.Sequential(\n",
    "            nn.Conv2d(3, 32, kernel_size = 5, stride=3, padding = 1),\n",
    "            nn.ReLU(),\n",
    "            nn.BatchNorm2d(32),\n",
    "            nn.MaxPool2d(2,2),\n",
    "            \n",
    "            nn.Conv2d(32,64, kernel_size = 5, stride = 3, padding = 1),\n",
    "            nn.ReLU(),\n",
    "            nn.BatchNorm2d(64),\n",
    "            nn.MaxPool2d(2,2),\n",
    "            \n",
    "            nn.Conv2d(64, 128, kernel_size = 3, stride = 1, padding = 1),\n",
    "            nn.ReLU(),\n",
    "            nn.BatchNorm2d(128),\n",
    "            nn.MaxPool2d(2,2),\n",
    "        )\n",
    "        self.classification = nn.Sequential(\n",
    "            nn.Flatten(),\n",
    "            nn.Linear(512,124),\n",
    "            nn.ReLU(),\n",
    "            nn.Linear(124, 64),\n",
    "            nn.ReLU(),\n",
    "            nn.Linear(64,num_classes),\n",
    "            nn.Sigmoid()\n",
    "        )\n",
    "        self.regression = nn.Sequential(\n",
    "            nn.Flatten(),\n",
    "            nn.Linear(512,124),\n",
    "            nn.ReLU(),\n",
    "            nn.Linear(124, 64),\n",
    "            nn.ReLU(),\n",
    "            nn.Linear(64,num_bounds),\n",
    "            nn.Sigmoid()\n",
    "        )\n",
    "        \n",
    "    \n",
    "    def forward(self, x):\n",
    "        x_ = self.features(x)\n",
    "        return (self.classification(x_), self.regression(x_))"
   ]
  },
  {
   "cell_type": "code",
   "execution_count": null,
   "metadata": {},
   "outputs": [],
   "source": [
    "model = MyModel().to(device=device)\n",
    "\n",
    "\n",
    "# optimizer_c = optim.SGD(model.classification.parameters(), lr=1e-3, momentum=0.9)\n",
    "# optimizer_r = optim.SGD(model.regression.parameters(), lr=1e-2)\n",
    "\n",
    "# scheduler_c = lr_scheduler.ReduceLROnPlateau(optimizer_c, mode='min', factor=0.1, patience=3, verbose=True)\n",
    "# scheduler_r = lr_scheduler.ReduceLROnPlateau(optimizer_r, mode='min', factor=0.1, patience=3, verbose=True)\n",
    "optimizer = optim.Adam(model.parameters(), lr=0.001)\n",
    "loss_fn_c = nn.CrossEntropyLoss()\n",
    "loss_fn_r = nn.MSELoss()"
   ]
  },
  {
   "cell_type": "code",
   "execution_count": null,
   "metadata": {},
   "outputs": [],
   "source": [
    "# def test_model():"
   ]
  },
  {
   "cell_type": "markdown",
   "metadata": {},
   "source": [
    "## Training"
   ]
  },
  {
   "cell_type": "code",
   "execution_count": null,
   "metadata": {},
   "outputs": [],
   "source": [
    "NUM_EPOCHS = 32"
   ]
  },
  {
   "cell_type": "code",
   "execution_count": null,
   "metadata": {},
   "outputs": [],
   "source": [
    "loss_values_c = []\n",
    "loss_values_r = []\n",
    "\n",
    "acc_values_c = []\n",
    "acc_values_r = []\n",
    "\n",
    "for epoch in range(NUM_EPOCHS):\n",
    "    total_loss_c = 0\n",
    "    total_loss_r = 0\n",
    "    for X, label, bounds in train_loader_c:\n",
    "        # optimizer_c.zero_grad()\n",
    "        # optimizer_r.zero_grad()\n",
    "        \n",
    "        X = X.to(device)\n",
    "        bounds = bounds.to(device)\n",
    "        \n",
    "        class_ = torch.zeros(3).to(device)\n",
    "        class_[int(label.item())] = 1\n",
    "        \n",
    "        pred_class, pred_bounds = model(X)\n",
    "        pred_class = pred_class.view(-1)\n",
    "        \n",
    "        loss_c = loss_fn_c(pred_class, class_)\n",
    "        loss_r = loss_fn_r(pred_bounds, bounds)\n",
    "        \n",
    "        loss = loss_c + loss_r  # Adjust weights as needed\n",
    "\n",
    "        optimizer.zero_grad()\n",
    "        loss.backward()\n",
    "        optimizer.step()\n",
    "        \n",
    "        # loss_c = loss_fn_c(pred_class, class_)\n",
    "        # loss_c.backward()\n",
    "        # optimizer_c.step()\n",
    "        \n",
    "        # loss_r = loss_fn_r(pred_bounds, bounds)\n",
    "        # loss_r.backward()\n",
    "        # optimizer_r.step()\n",
    "        \n",
    "        \n",
    "        total_loss_c += loss_c.item()\n",
    "        total_loss_r += loss_r.item()\n",
    "        \n",
    "    avg_loss_c = total_loss_c / len(train_loader_c)\n",
    "    loss_values_c.append(avg_loss_c)\n",
    "    \n",
    "    # scheduler_c.step(avg_loss_c)\n",
    "    \n",
    "    avg_loss_r = total_loss_r / len(train_loader_c)\n",
    "    loss_values_r.append(avg_loss_r)\n",
    "    \n",
    "    # scheduler_r.step(avg_loss_r)\n",
    "    \n",
    "    print(f'Epoch: {epoch+1}/{NUM_EPOCHS}')\n",
    "    print(f'classification loss: {avg_loss_c}')\n",
    "    print(f'regression loss: {avg_loss_r}')\n",
    "        \n",
    "        \n",
    "        \n",
    "        "
   ]
  },
  {
   "cell_type": "markdown",
   "metadata": {},
   "source": [
    "# Pretrained Model"
   ]
  },
  {
   "cell_type": "code",
   "execution_count": 11,
   "metadata": {},
   "outputs": [],
   "source": [
    "pre_model = vgg16(weights=VGG16_Weights.IMAGENET1K_V1)\n",
    "# for param in pre_model.parameters():\n",
    "#     param.requires_grad=False\n",
    "# pre_model.classifier[6] = nn.Linear(in_features=pre_model.classifier[6].in_features, out_features=pre_model.classifier[6].out_features)\n",
    "features = list(pre_model.features)\n",
    "classifier = list(pre_model.classifier[:-1])\n",
    "classifier.insert(0, nn.Flatten())\n",
    "classifier.insert(0, nn.AdaptiveAvgPool2d((7, 7)))\n",
    "classifier[2] = nn.Linear(in_features=25088, out_features=4096)\n",
    "\n"
   ]
  },
  {
   "cell_type": "code",
   "execution_count": 12,
   "metadata": {},
   "outputs": [],
   "source": [
    "classification_head = nn.Sequential(\n",
    "    *classifier,\n",
    "    nn.Linear(4096, 3),\n",
    "    # nn.Softmax()\n",
    ")\n",
    "\n",
    "# Bounding box regression head\n",
    "bbox_head = nn.Sequential(\n",
    "    *classifier,\n",
    "    nn.Linear(4096, 4),\n",
    "    nn.Sigmoid()\n",
    ")"
   ]
  },
  {
   "cell_type": "code",
   "execution_count": 13,
   "metadata": {},
   "outputs": [],
   "source": [
    "class CustomVGG16(nn.Module):\n",
    "    def __init__(self):\n",
    "        super(CustomVGG16, self).__init__()\n",
    "        self.features = nn.Sequential(*features)\n",
    "        self.classifier = classification_head\n",
    "        self.bbox_regressor = bbox_head\n",
    "    \n",
    "    def forward(self, x):\n",
    "        x = self.features(x)\n",
    "        class_output = self.classifier(x)\n",
    "        bbox_output = self.bbox_regressor(x)\n",
    "        return class_output, bbox_output"
   ]
  },
  {
   "cell_type": "code",
   "execution_count": 14,
   "metadata": {},
   "outputs": [],
   "source": [
    "comb_model = CustomVGG16().to(device=device)"
   ]
  },
  {
   "cell_type": "markdown",
   "metadata": {},
   "source": [
    "## Train (Head)"
   ]
  },
  {
   "cell_type": "markdown",
   "metadata": {},
   "source": [
    "### classification head"
   ]
  },
  {
   "cell_type": "code",
   "execution_count": null,
   "metadata": {},
   "outputs": [],
   "source": [
    "for param in comb_model.parameters():\n",
    "    param.requires_grad=False\n",
    "for param in comb_model.classifier.parameters():\n",
    "    param.requires_grad=True"
   ]
  },
  {
   "cell_type": "code",
   "execution_count": null,
   "metadata": {},
   "outputs": [],
   "source": [
    "optimizer_c = optim.Adam(comb_model.classifier.parameters(), lr=1e-3)\n",
    "loss_fn_c = nn.CrossEntropyLoss()\n",
    "scheduler_c = lr_scheduler.ReduceLROnPlateau(optimizer_c, mode='min', factor=0.1, patience=2, verbose=True)"
   ]
  },
  {
   "cell_type": "code",
   "execution_count": null,
   "metadata": {},
   "outputs": [],
   "source": [
    "NUM_EPOCHS = 10"
   ]
  },
  {
   "cell_type": "code",
   "execution_count": null,
   "metadata": {},
   "outputs": [],
   "source": [
    "loss_values_c = []\n",
    "\n",
    "for epoch in range(NUM_EPOCHS):\n",
    "    total_loss_c = 0\n",
    "    for X, label in train_loader_c:\n",
    "        \n",
    "        X = X.to(device)\n",
    "        label = label.long().to(device)\n",
    "        \n",
    "        pred_class, pred_bounds = comb_model(X)\n",
    "        \n",
    "        loss_c = loss_fn_c(pred_class, label)\n",
    "        \n",
    "        optimizer_c.zero_grad()\n",
    "        loss_c.backward()\n",
    "        optimizer_c.step()\n",
    "        \n",
    "        \n",
    "        total_loss_c += loss_c.item()\n",
    "        \n",
    "    avg_loss_c = total_loss_c / len(train_loader_c)\n",
    "    loss_values_c.append(avg_loss_c)\n",
    "    \n",
    "    scheduler_c.step(avg_loss_c)\n",
    "    \n",
    "    print(f'Epoch: {epoch+1}/{NUM_EPOCHS}')\n",
    "    print(f'classification loss: {avg_loss_c}')\n",
    "    # print(f'lr: {scheduler_c.get_last_lr()}')\n",
    "        \n",
    "        \n",
    "        \n",
    "        "
   ]
  },
  {
   "cell_type": "code",
   "execution_count": null,
   "metadata": {},
   "outputs": [],
   "source": [
    "plt.figure(figsize=(10,10))\n",
    "plt.plot(loss_values_c)\n",
    "plt.show()"
   ]
  },
  {
   "cell_type": "markdown",
   "metadata": {},
   "source": [
    "### regression head"
   ]
  },
  {
   "cell_type": "code",
   "execution_count": null,
   "metadata": {},
   "outputs": [],
   "source": [
    "for param in comb_model.parameters():\n",
    "    param.requires_grad=False\n",
    "for param in comb_model.bbox_regressor.parameters():\n",
    "    param.requires_grad=True"
   ]
  },
  {
   "cell_type": "code",
   "execution_count": null,
   "metadata": {},
   "outputs": [],
   "source": [
    "optimizer_r = optim.Adam(comb_model.bbox_regressor.parameters(), lr=1e-3)\n",
    "loss_fn_r = nn.MSELoss()\n",
    "scheduler_r = lr_scheduler.ReduceLROnPlateau(optimizer_r, mode='min', factor=0.1, patience=2, verbose=True)"
   ]
  },
  {
   "cell_type": "code",
   "execution_count": null,
   "metadata": {},
   "outputs": [],
   "source": [
    "loss_values_r = []\n",
    "\n",
    "for epoch in range(NUM_EPOCHS):\n",
    "    total_loss_r = 0\n",
    "    for X, label, bounds in train_loader_r:\n",
    "        \n",
    "        X = X.to(device)\n",
    "        bounds = bounds.to(device)\n",
    "        \n",
    "        pred_class, pred_bounds = comb_model(X)\n",
    "        \n",
    "        loss_r = loss_fn_r(pred_bounds, bounds)\n",
    "\n",
    "        optimizer_r.zero_grad()\n",
    "        loss_r.backward()\n",
    "        optimizer_r.step()\n",
    "        \n",
    "        total_loss_r += loss_r.item()\n",
    "    \n",
    "    avg_loss_r = total_loss_r / len(train_loader_r)\n",
    "    loss_values_r.append(avg_loss_r)\n",
    "    \n",
    "    scheduler_r.step(avg_loss_r)\n",
    "    \n",
    "    print(f'Epoch: {epoch+1}/{NUM_EPOCHS}')\n",
    "    print(f'regression loss: {avg_loss_r}')\n",
    "    # print(f'lr: {scheduler_r.get_last_lr()}')\n",
    "        \n",
    "        \n",
    "        \n",
    "        "
   ]
  },
  {
   "cell_type": "code",
   "execution_count": null,
   "metadata": {},
   "outputs": [],
   "source": [
    "plt.figure(figsize=(10,10))\n",
    "plt.plot(loss_values_r)\n",
    "plt.show()"
   ]
  },
  {
   "cell_type": "markdown",
   "metadata": {},
   "source": [
    "## Train (Finetuning)"
   ]
  },
  {
   "cell_type": "code",
   "execution_count": 15,
   "metadata": {},
   "outputs": [],
   "source": [
    "for param in comb_model.parameters():\n",
    "    param.requires_grad = True"
   ]
  },
  {
   "cell_type": "code",
   "execution_count": 16,
   "metadata": {},
   "outputs": [],
   "source": [
    "optimizer = optim.Adam(comb_model.parameters(), lr=1e-4)\n",
    "scheduler = lr_scheduler.ReduceLROnPlateau(optimizer, mode='min', factor=0.1, patience=3, verbose=True)\n",
    "loss_fn_c = nn.CrossEntropyLoss()\n",
    "loss_fn_r = nn.MSELoss()"
   ]
  },
  {
   "cell_type": "code",
   "execution_count": 17,
   "metadata": {},
   "outputs": [],
   "source": [
    "NUM_EPOCHS = 40"
   ]
  },
  {
   "cell_type": "code",
   "execution_count": 18,
   "metadata": {},
   "outputs": [],
   "source": [
    "training_loader = [train_loader_c, train_loader_r]"
   ]
  },
  {
   "cell_type": "code",
   "execution_count": 19,
   "metadata": {},
   "outputs": [
    {
     "name": "stdout",
     "output_type": "stream",
     "text": [
      "Epoch: 1/40\n",
      "total loss: 0.9534002404946548\n",
      "classification loss: 0.8638879748491141\n",
      "regression loss: 0.08951225597411394\n",
      "Epoch: 2/40\n",
      "total loss: 0.32379921754965413\n",
      "classification loss: 0.30623615361177003\n",
      "regression loss: 0.017563065513968468\n",
      "Epoch: 3/40\n",
      "total loss: 0.04654226301667782\n",
      "classification loss: 0.031433509597823456\n",
      "regression loss: 0.015108752709168654\n",
      "Epoch: 4/40\n",
      "total loss: 0.16451781228757822\n",
      "classification loss: 0.1472836243158851\n",
      "regression loss: 0.017234186856792524\n",
      "Epoch: 5/40\n",
      "total loss: 0.04308793801241196\n",
      "classification loss: 0.03033539736106132\n",
      "regression loss: 0.012752540588665467\n",
      "Epoch: 6/40\n",
      "total loss: 0.014547628780397085\n",
      "classification loss: 0.0020239291924763867\n",
      "regression loss: 0.012523699623460952\n",
      "Epoch: 7/40\n",
      "total loss: 0.013355825597850176\n",
      "classification loss: 0.0006880749588862483\n",
      "regression loss: 0.012667750653166037\n",
      "Epoch: 8/40\n",
      "total loss: 0.012316697778610082\n",
      "classification loss: 0.00031960679091123614\n",
      "regression loss: 0.011997091082426218\n",
      "Epoch: 9/40\n",
      "total loss: 0.01222074475999062\n",
      "classification loss: 0.0003249501563774314\n",
      "regression loss: 0.011895794564714799\n",
      "Epoch: 10/40\n",
      "total loss: 0.010335092110416064\n",
      "classification loss: 0.00037809816813723254\n",
      "regression loss: 0.009956993950674167\n",
      "Epoch: 11/40\n",
      "total loss: 0.00977841943788987\n",
      "classification loss: 0.0003436233561772567\n",
      "regression loss: 0.009434796117532711\n",
      "Epoch: 12/40\n",
      "total loss: 0.008832949177863507\n",
      "classification loss: 0.0005001722098453543\n",
      "regression loss: 0.008332776872871013\n",
      "Epoch: 13/40\n",
      "total loss: 0.008856422267854214\n",
      "classification loss: 0.0004339282696981592\n",
      "regression loss: 0.008422493934631348\n",
      "Epoch: 14/40\n",
      "total loss: 0.007987110875546932\n",
      "classification loss: 0.0005063250553995693\n",
      "regression loss: 0.007480785931245639\n",
      "Epoch: 15/40\n",
      "total loss: 0.007830336439208342\n",
      "classification loss: 0.0005835868376799716\n",
      "regression loss: 0.007246749511418434\n",
      "Epoch: 16/40\n",
      "total loss: 0.007065366452129988\n",
      "classification loss: 0.0002675770721487844\n",
      "regression loss: 0.006797789381100581\n",
      "Epoch: 17/40\n",
      "total loss: 0.006314761685923888\n",
      "classification loss: 0.00041962347033684357\n",
      "regression loss: 0.005895138216706423\n",
      "Epoch: 18/40\n",
      "total loss: 0.0057118435820134785\n",
      "classification loss: 0.00025609582035730663\n",
      "regression loss: 0.005455747712403536\n",
      "Epoch: 19/40\n",
      "total loss: 0.005551031826493831\n",
      "classification loss: 0.00031228460899840755\n",
      "regression loss: 0.005238747242121742\n",
      "Epoch: 20/40\n",
      "total loss: 0.0056291647936002566\n",
      "classification loss: 0.0003010517964587332\n",
      "regression loss: 0.005328113034081001\n",
      "Epoch: 21/40\n",
      "total loss: 0.0045520017783229165\n",
      "classification loss: 0.0003778505493895724\n",
      "regression loss: 0.00417415126083562\n",
      "Epoch: 22/40\n",
      "total loss: 0.0051071613919563014\n",
      "classification loss: 0.00031749437934754847\n",
      "regression loss: 0.004789667060742011\n",
      "Epoch: 23/40\n",
      "total loss: 0.004524365300312638\n",
      "classification loss: 0.00032332716196273954\n",
      "regression loss: 0.0042010381674537295\n",
      "Epoch: 24/40\n",
      "total loss: 0.004108015143384154\n",
      "classification loss: 0.00023978688785483918\n",
      "regression loss: 0.003868228326050135\n",
      "Epoch: 25/40\n",
      "total loss: 0.004315827740356326\n",
      "classification loss: 0.00032160487787153287\n",
      "regression loss: 0.003994222873678574\n",
      "Epoch: 26/40\n",
      "total loss: 0.003914507965628917\n",
      "classification loss: 0.0002957948062640543\n",
      "regression loss: 0.003618713181752425\n",
      "Epoch: 27/40\n",
      "total loss: 0.0038543677566429744\n",
      "classification loss: 0.0001675642874593345\n",
      "regression loss: 0.003686803482616177\n",
      "Epoch: 28/40\n",
      "total loss: 0.003203410279149046\n",
      "classification loss: 0.0001611455786937418\n",
      "regression loss: 0.003042264716126598\n",
      "Epoch: 29/40\n",
      "total loss: 0.0038904497005905095\n",
      "classification loss: 0.00023303194169644624\n",
      "regression loss: 0.0036574177658901764\n",
      "Epoch: 30/40\n",
      "total loss: 0.003228491279654778\n",
      "classification loss: 0.00018803719187697145\n",
      "regression loss: 0.003040454090716174\n",
      "Epoch: 31/40\n",
      "total loss: 0.0033648280211939262\n",
      "classification loss: 0.0001228206572425104\n",
      "regression loss: 0.003242007402989727\n",
      "Epoch: 32/40\n",
      "total loss: 0.0028293161975363125\n",
      "classification loss: 0.0002414921725106139\n",
      "regression loss: 0.0025878240121528506\n",
      "Epoch: 33/40\n",
      "total loss: 0.0031245907482046345\n",
      "classification loss: 0.00014720841136295348\n",
      "regression loss: 0.0029773823200510098\n",
      "Epoch: 34/40\n",
      "total loss: 0.002757855601465473\n",
      "classification loss: 9.990921423125725e-05\n",
      "regression loss: 0.0026579463603691412\n",
      "Epoch: 35/40\n",
      "total loss: 0.0025331332491567503\n",
      "classification loss: 0.00017954275398761427\n",
      "regression loss: 0.0023535904922307683\n",
      "Epoch: 36/40\n",
      "total loss: 0.002643688510243709\n",
      "classification loss: 0.00013880514290156917\n",
      "regression loss: 0.0025048833429956664\n",
      "Epoch: 37/40\n",
      "total loss: 0.0024721458858738723\n",
      "classification loss: 0.00016959811742148863\n",
      "regression loss: 0.0023025477645345605\n",
      "Epoch: 38/40\n",
      "total loss: 0.0025583255158450743\n",
      "classification loss: 0.00015020221004446145\n",
      "regression loss: 0.0024081233512753476\n",
      "Epoch: 39/40\n",
      "total loss: 0.0024268226608490716\n",
      "classification loss: 0.00013566746831482026\n",
      "regression loss: 0.0022911551820400814\n",
      "Epoch: 40/40\n",
      "total loss: 0.002470784937031567\n",
      "classification loss: 0.000166459080691521\n",
      "regression loss: 0.0023043258473850214\n"
     ]
    }
   ],
   "source": [
    "loss_val = []\n",
    "loss_values_c = []\n",
    "loss_values_r = []\n",
    "weight_cls = 1.0\n",
    "weight_reg = 1.0\n",
    "for epoch in range(NUM_EPOCHS):\n",
    "    total_loss_c = 0\n",
    "    total_loss_r = 0\n",
    "    total_loss = 0\n",
    "    for X, label, bounds in train_loader_r:\n",
    "        # optimizer_c.zero_grad()\n",
    "        # optimizer_r.zero_grad()\n",
    "        \n",
    "        X = X.to(device)\n",
    "        bounds = bounds.to(device)\n",
    "        \n",
    "        label = label.long().to(device)\n",
    "        \n",
    "        pred_class, pred_bounds = comb_model(X)\n",
    "        \n",
    "        loss_c = loss_fn_c(pred_class, label)\n",
    "        loss_r = loss_fn_r(pred_bounds, bounds)\n",
    "        \n",
    "        loss = weight_cls * loss_c + weight_reg * loss_r  # Adjust weights as needed\n",
    "\n",
    "        optimizer.zero_grad()\n",
    "        loss.backward()\n",
    "        optimizer.step()\n",
    "        \n",
    "        total_loss_c += loss_c.item() * weight_cls\n",
    "        total_loss_r += loss_r.item() * weight_reg\n",
    "        total_loss += loss.item()\n",
    "        \n",
    "    avg_loss_c = total_loss_c / len(train_loader_r)\n",
    "    loss_values_c.append(avg_loss_c)\n",
    "    \n",
    "    # scheduler_c.step(avg_loss_c)\n",
    "    \n",
    "    avg_loss_r = total_loss_r / len(train_loader_r)\n",
    "    loss_values_r.append(avg_loss_r)\n",
    "    \n",
    "    avg_loss = total_loss / len(train_loader_r)\n",
    "    loss_val.append(avg_loss)\n",
    "    scheduler.step(avg_loss)\n",
    "    \n",
    "    print(f'Epoch: {epoch+1}/{NUM_EPOCHS}')\n",
    "    # print(f'learning rate: {scheduler.get_last_lr()}')\n",
    "    print(f'total loss: {avg_loss}')\n",
    "    print(f'classification loss: {avg_loss_c}')\n",
    "    print(f'regression loss: {avg_loss_r}')\n",
    "        "
   ]
  },
  {
   "cell_type": "code",
   "execution_count": 20,
   "metadata": {},
   "outputs": [
    {
     "data": {
      "image/png": "[encoded data removed]",
      "text/plain": [
       "<Figure size 1000x1000 with 1 Axes>"
      ]
     },
     "metadata": {},
     "output_type": "display_data"
    }
   ],
   "source": [
    "plt.figure(figsize=(10,10))\n",
    "plt.plot(loss_values_c)\n",
    "plt.plot(loss_values_r)\n",
    "plt.show()"
   ]
  },
  {
   "cell_type": "markdown",
   "metadata": {},
   "source": [
    "# Tests"
   ]
  },
  {
   "cell_type": "code",
   "execution_count": 26,
   "metadata": {},
   "outputs": [
    {
     "name": "stdout",
     "output_type": "stream",
     "text": [
      "x1: 112.92843627929688, y1: 47.859291076660156\n",
      "x2: 468.1951599121094, y2: 177.5253143310547\n",
      "0\n"
     ]
    }
   ],
   "source": [
    "comb_model.eval()\n",
    "idx = 8\n",
    "\n",
    "myImg = Image.open(\"./data/tests/img_3.jpg\")\n",
    "img = transforms.ToTensor()(myImg)\n",
    "h, w = img.shape[1:]\n",
    "img = transforms.Resize(size=(RESIZE,RESIZE))(img)\n",
    "\n",
    "# x1,y1,x2,y2 = data.iloc[idx_2,1:].values\n",
    "\n",
    "with torch.no_grad():\n",
    "    x = img.to(device)\n",
    "    # x = data_test[idx].to(device)\n",
    "    x = x.unsqueeze(0)\n",
    "    # class_ = classes_test[idx]\n",
    "    pred_class, pred_bounds = comb_model(x)\n",
    "    x1,y1,x2,y2 = pred_bounds[0][0],pred_bounds[0][1],pred_bounds[0][2],pred_bounds[0][3]\n",
    "    # w, h = raw_imgs[idx].size\n",
    "    x1 = x1 * w\n",
    "    y1 = y1 * h\n",
    "    x2 = x2 * w\n",
    "    y2 = y2 * h\n",
    "    \n",
    "    draw = ImageDraw.Draw(myImg)\n",
    "    print(f'x1: {x1}, y1: {y1}')\n",
    "    print(f'x2: {x2}, y2: {y2}')\n",
    "    print(torch.argmax(pred_class).item())\n",
    "    top_left = (x1, y1)\n",
    "    bottom_right = (x2, y2) \n",
    "    \n",
    "    draw.rectangle([top_left, bottom_right], outline=\"red\", width=3)\n",
    "    \n",
    "    myImg.show()\n",
    "    \n",
    "    "
   ]
  },
  {
   "cell_type": "code",
   "execution_count": null,
   "metadata": {},
   "outputs": [],
   "source": [
    "data, label, bounds = next(iter(train_loader_r))\n",
    "data = data.to(device)\n",
    "comb_model.eval()\n",
    "with torch.no_grad():\n",
    "    pre_cl, pred_bounds = comb_model(data)\n",
    "    print(pred_bounds)\n",
    "    print(bounds)"
   ]
  }
 ],
 "metadata": {
  "kernelspec": {
   "display_name": "base",
   "language": "python",
   "name": "python3"
  },
  "language_info": {
   "codemirror_mode": {
    "name": "ipython",
    "version": 3
   },
   "file_extension": ".py",
   "mimetype": "text/x-python",
   "name": "python",
   "nbconvert_exporter": "python",
   "pygments_lexer": "ipython3",
   "version": "3.11.5"
  }
 },
 "nbformat": 4,
 "nbformat_minor": 2
}
